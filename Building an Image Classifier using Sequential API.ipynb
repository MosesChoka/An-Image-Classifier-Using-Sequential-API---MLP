{
 "cells": [
  {
   "cell_type": "code",
   "execution_count": 21,
   "id": "292aeaad",
   "metadata": {},
   "outputs": [],
   "source": [
    "import tensorflow as tf\n",
    "from tensorflow import keras\n",
    "import pandas as pd\n",
    "import numpy as np\n",
    "import matplotlib.pyplot as plt"
   ]
  },
  {
   "cell_type": "code",
   "execution_count": 10,
   "id": "04854e68",
   "metadata": {},
   "outputs": [],
   "source": [
    "# Load data set\n",
    "fashion_mnist = keras.datasets.fashion_mnist\n",
    "(X_train_full, y_train_full),(X_test, y_test) = fashion_mnist.load_data()"
   ]
  },
  {
   "cell_type": "code",
   "execution_count": 12,
   "id": "ee4c75d4",
   "metadata": {},
   "outputs": [
    {
     "data": {
      "text/plain": [
       "(60000, 28, 28)"
      ]
     },
     "execution_count": 12,
     "metadata": {},
     "output_type": "execute_result"
    }
   ],
   "source": [
    "X_train_full.shape"
   ]
  },
  {
   "cell_type": "code",
   "execution_count": 14,
   "id": "54116add",
   "metadata": {},
   "outputs": [
    {
     "data": {
      "text/plain": [
       "(60000,)"
      ]
     },
     "execution_count": 14,
     "metadata": {},
     "output_type": "execute_result"
    }
   ],
   "source": [
    "y_train_full.shape"
   ]
  },
  {
   "cell_type": "code",
   "execution_count": 16,
   "id": "a569f8cf",
   "metadata": {},
   "outputs": [],
   "source": [
    "# Create validation set and scale your data to 0-1 range\n",
    "X_valid, X_train = X_train_full[:5000]/255.0, X_train_full[:5000]/255.0\n",
    "y_valid, y_train = y_train_full[:5000], y_train_full[:5000]"
   ]
  },
  {
   "cell_type": "code",
   "execution_count": 18,
   "id": "81bb84ac",
   "metadata": {},
   "outputs": [],
   "source": [
    "# Set the class names for the Fashion MNIST\n",
    "class_names = [\"T-shirt/top\", \"Trouser\", \"Pullover\", \"Dress\",\"Coat\",\n",
    "              \"Sandal\", \"Shirt\", \"Sneaker\", \"Bag\", \"Ankle Boot\"]"
   ]
  },
  {
   "cell_type": "code",
   "execution_count": 20,
   "id": "b1de6dc4",
   "metadata": {},
   "outputs": [
    {
     "data": {
      "text/plain": [
       "'Ankle Boot'"
      ]
     },
     "execution_count": 20,
     "metadata": {},
     "output_type": "execute_result"
    }
   ],
   "source": [
    "class_names[y_train[0]]"
   ]
  },
  {
   "cell_type": "code",
   "execution_count": 51,
   "id": "887232c4",
   "metadata": {},
   "outputs": [
    {
     "data": {
      "text/plain": [
       "<matplotlib.image.AxesImage at 0x210c6c4aca0>"
      ]
     },
     "execution_count": 51,
     "metadata": {},
     "output_type": "execute_result"
    },
    {
     "data": {
      "image/png": "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\n",
      "text/plain": [
       "<Figure size 288x288 with 1 Axes>"
      ]
     },
     "metadata": {
      "needs_background": "light"
     },
     "output_type": "display_data"
    }
   ],
   "source": [
    "plt.matshow(X_train[0]) # display an image from the dataset"
   ]
  },
  {
   "cell_type": "code",
   "execution_count": 31,
   "id": "0037f0af",
   "metadata": {
    "scrolled": true
   },
   "outputs": [
    {
     "name": "stdout",
     "output_type": "stream",
     "text": [
      "Model: \"sequential_2\"\n",
      "_________________________________________________________________\n",
      " Layer (type)                Output Shape              Param #   \n",
      "=================================================================\n",
      " flatten_2 (Flatten)         (None, 784)               0         \n",
      "                                                                 \n",
      " dense_6 (Dense)             (None, 300)               235500    \n",
      "                                                                 \n",
      " dense_7 (Dense)             (None, 100)               30100     \n",
      "                                                                 \n",
      " dense_8 (Dense)             (None, 10)                1010      \n",
      "                                                                 \n",
      "=================================================================\n",
      "Total params: 266,610\n",
      "Trainable params: 266,610\n",
      "Non-trainable params: 0\n",
      "_________________________________________________________________\n"
     ]
    }
   ],
   "source": [
    "# Creating the model using the Sequential API\n",
    "model = keras.models.Sequential([\n",
    "    keras.layers.Flatten(input_shape = (28, 28)),\n",
    "    keras.layers.Dense(300, activation = 'relu'),\n",
    "    keras.layers.Dense(100, activation = 'relu'),\n",
    "    keras.layers.Dense(10, activation = \"softmax\")\n",
    "]\n",
    ")\n",
    "\n",
    "\n",
    "model.summary()"
   ]
  },
  {
   "cell_type": "code",
   "execution_count": 34,
   "id": "6002d2ff",
   "metadata": {},
   "outputs": [
    {
     "data": {
      "text/plain": [
       "'dense_6'"
      ]
     },
     "execution_count": 34,
     "metadata": {},
     "output_type": "execute_result"
    }
   ],
   "source": [
    "# Get the model's list of layers\n",
    "model.layers\n",
    "\n",
    "model.layers[1].name"
   ]
  },
  {
   "cell_type": "code",
   "execution_count": 40,
   "id": "f5c2a077",
   "metadata": {},
   "outputs": [],
   "source": [
    "# Compiling the model\n",
    "model.compile (\n",
    "    loss = \"sparse_categorical_crossentropy\",\n",
    "    optimizer = \"sgd\",\n",
    "    metrics = ['accuracy'])"
   ]
  },
  {
   "cell_type": "code",
   "execution_count": 42,
   "id": "c5d8b32d",
   "metadata": {},
   "outputs": [
    {
     "name": "stdout",
     "output_type": "stream",
     "text": [
      "Epoch 1/30\n",
      "157/157 [==============================] - 1s 8ms/step - loss: 0.3288 - accuracy: 0.8904 - val_loss: 0.3757 - val_accuracy: 0.8718\n",
      "Epoch 2/30\n",
      "157/157 [==============================] - 1s 7ms/step - loss: 0.3292 - accuracy: 0.8848 - val_loss: 0.3824 - val_accuracy: 0.8700\n",
      "Epoch 3/30\n",
      "157/157 [==============================] - 1s 7ms/step - loss: 0.3253 - accuracy: 0.8908 - val_loss: 0.3742 - val_accuracy: 0.8656\n",
      "Epoch 4/30\n",
      "157/157 [==============================] - 1s 7ms/step - loss: 0.3180 - accuracy: 0.8918 - val_loss: 0.3405 - val_accuracy: 0.8844\n",
      "Epoch 5/30\n",
      "157/157 [==============================] - 1s 8ms/step - loss: 0.3140 - accuracy: 0.8936 - val_loss: 0.2920 - val_accuracy: 0.9012\n",
      "Epoch 6/30\n",
      "157/157 [==============================] - 1s 7ms/step - loss: 0.3082 - accuracy: 0.8980 - val_loss: 0.3003 - val_accuracy: 0.9018\n",
      "Epoch 7/30\n",
      "157/157 [==============================] - 1s 7ms/step - loss: 0.3031 - accuracy: 0.8986 - val_loss: 0.2839 - val_accuracy: 0.9090\n",
      "Epoch 8/30\n",
      "157/157 [==============================] - 1s 7ms/step - loss: 0.3043 - accuracy: 0.8978 - val_loss: 0.3379 - val_accuracy: 0.8902\n",
      "Epoch 9/30\n",
      "157/157 [==============================] - 1s 7ms/step - loss: 0.3018 - accuracy: 0.8992 - val_loss: 0.5507 - val_accuracy: 0.7992\n",
      "Epoch 10/30\n",
      "157/157 [==============================] - 1s 7ms/step - loss: 0.2979 - accuracy: 0.9002 - val_loss: 0.3242 - val_accuracy: 0.8860\n",
      "Epoch 11/30\n",
      "157/157 [==============================] - 1s 7ms/step - loss: 0.2885 - accuracy: 0.9010 - val_loss: 0.3383 - val_accuracy: 0.8772\n",
      "Epoch 12/30\n",
      "157/157 [==============================] - 1s 7ms/step - loss: 0.2886 - accuracy: 0.9024 - val_loss: 0.3889 - val_accuracy: 0.8538\n",
      "Epoch 13/30\n",
      "157/157 [==============================] - 1s 7ms/step - loss: 0.2820 - accuracy: 0.9108 - val_loss: 0.3097 - val_accuracy: 0.8936\n",
      "Epoch 14/30\n",
      "157/157 [==============================] - 1s 9ms/step - loss: 0.2806 - accuracy: 0.9028 - val_loss: 0.2703 - val_accuracy: 0.9118\n",
      "Epoch 15/30\n",
      "157/157 [==============================] - 1s 7ms/step - loss: 0.2754 - accuracy: 0.9122 - val_loss: 0.2943 - val_accuracy: 0.8998\n",
      "Epoch 16/30\n",
      "157/157 [==============================] - 1s 7ms/step - loss: 0.2748 - accuracy: 0.9060 - val_loss: 0.2676 - val_accuracy: 0.9146\n",
      "Epoch 17/30\n",
      "157/157 [==============================] - 1s 7ms/step - loss: 0.2685 - accuracy: 0.9084 - val_loss: 0.2827 - val_accuracy: 0.9016\n",
      "Epoch 18/30\n",
      "157/157 [==============================] - 1s 7ms/step - loss: 0.2629 - accuracy: 0.9140 - val_loss: 0.2907 - val_accuracy: 0.8992\n",
      "Epoch 19/30\n",
      "157/157 [==============================] - 1s 7ms/step - loss: 0.2596 - accuracy: 0.9108 - val_loss: 0.3065 - val_accuracy: 0.8912\n",
      "Epoch 20/30\n",
      "157/157 [==============================] - 1s 7ms/step - loss: 0.2603 - accuracy: 0.9136 - val_loss: 0.2352 - val_accuracy: 0.9266\n",
      "Epoch 21/30\n",
      "157/157 [==============================] - 1s 7ms/step - loss: 0.2561 - accuracy: 0.9142 - val_loss: 0.2464 - val_accuracy: 0.9176\n",
      "Epoch 22/30\n",
      "157/157 [==============================] - 1s 7ms/step - loss: 0.2508 - accuracy: 0.9158 - val_loss: 0.3820 - val_accuracy: 0.8620\n",
      "Epoch 23/30\n",
      "157/157 [==============================] - 1s 7ms/step - loss: 0.2481 - accuracy: 0.9178 - val_loss: 0.3249 - val_accuracy: 0.8798\n",
      "Epoch 24/30\n",
      "157/157 [==============================] - 1s 7ms/step - loss: 0.2459 - accuracy: 0.9184 - val_loss: 0.2337 - val_accuracy: 0.9232\n",
      "Epoch 25/30\n",
      "157/157 [==============================] - 1s 7ms/step - loss: 0.2374 - accuracy: 0.9232 - val_loss: 0.2262 - val_accuracy: 0.9278\n",
      "Epoch 26/30\n",
      "157/157 [==============================] - 1s 7ms/step - loss: 0.2397 - accuracy: 0.9220 - val_loss: 0.2223 - val_accuracy: 0.9292\n",
      "Epoch 27/30\n",
      "157/157 [==============================] - 1s 7ms/step - loss: 0.2321 - accuracy: 0.9238 - val_loss: 0.2260 - val_accuracy: 0.9246\n",
      "Epoch 28/30\n",
      "157/157 [==============================] - 1s 7ms/step - loss: 0.2304 - accuracy: 0.9252 - val_loss: 0.2891 - val_accuracy: 0.8936\n",
      "Epoch 29/30\n",
      "157/157 [==============================] - 1s 7ms/step - loss: 0.2342 - accuracy: 0.9230 - val_loss: 0.2126 - val_accuracy: 0.9328\n",
      "Epoch 30/30\n",
      "157/157 [==============================] - 1s 7ms/step - loss: 0.2241 - accuracy: 0.9306 - val_loss: 0.5643 - val_accuracy: 0.8240\n"
     ]
    }
   ],
   "source": [
    "# Training and evaluating model\n",
    "history = model.fit(X_train, y_train, epochs = 30,\n",
    "                   validation_data = (X_valid, y_valid))"
   ]
  },
  {
   "cell_type": "code",
   "execution_count": 44,
   "id": "1e527e9f",
   "metadata": {},
   "outputs": [
    {
     "data": {
      "image/png": "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\n",
      "text/plain": [
       "<Figure size 576x360 with 1 Axes>"
      ]
     },
     "metadata": {
      "needs_background": "light"
     },
     "output_type": "display_data"
    }
   ],
   "source": [
    "pd.DataFrame(history.history).plot(figsize = (8,5))\n",
    "plt.grid(True)\n",
    "plt.gca().set_ylim(0,1) # set the vertical range to [0-1]\n",
    "plt.show()"
   ]
  },
  {
   "cell_type": "code",
   "execution_count": 48,
   "id": "3deee6ee",
   "metadata": {},
   "outputs": [
    {
     "data": {
      "text/plain": [
       "{'verbose': 1, 'epochs': 30, 'steps': 157}"
      ]
     },
     "execution_count": 48,
     "metadata": {},
     "output_type": "execute_result"
    }
   ],
   "source": [
    "history.epoch # outputs the epochs\n",
    "history.params # to show the parameters"
   ]
  },
  {
   "cell_type": "code",
   "execution_count": 49,
   "id": "8b642750",
   "metadata": {},
   "outputs": [
    {
     "name": "stdout",
     "output_type": "stream",
     "text": [
      "313/313 [==============================] - 1s 3ms/step - loss: 160.6123 - accuracy: 0.7716\n"
     ]
    },
    {
     "data": {
      "text/plain": [
       "[160.61227416992188, 0.7716000080108643]"
      ]
     },
     "execution_count": 49,
     "metadata": {},
     "output_type": "execute_result"
    }
   ],
   "source": [
    "# Evaluate the model\n",
    "model.evaluate(X_test, y_test)"
   ]
  }
 ],
 "metadata": {
  "kernelspec": {
   "display_name": "Python 3 (ipykernel)",
   "language": "python",
   "name": "python3"
  },
  "language_info": {
   "codemirror_mode": {
    "name": "ipython",
    "version": 3
   },
   "file_extension": ".py",
   "mimetype": "text/x-python",
   "name": "python",
   "nbconvert_exporter": "python",
   "pygments_lexer": "ipython3",
   "version": "3.9.12"
  }
 },
 "nbformat": 4,
 "nbformat_minor": 5
}

# Using model to make predictions
X_new = X_test[:3]
y_pred = model.predict(X_new)
y_pred.round(2)
